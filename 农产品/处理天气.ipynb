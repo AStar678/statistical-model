{
 "cells": [
  {
   "cell_type": "code",
   "execution_count": 6,
   "metadata": {},
   "outputs": [],
   "source": [
    "import pandas as pd"
   ]
  },
  {
   "cell_type": "code",
   "execution_count": 7,
   "metadata": {},
   "outputs": [],
   "source": [
    "city = 'jinzhong'\n",
    "df = pd.read_csv(f\"{city}/origin.csv\")"
   ]
  },
  {
   "cell_type": "code",
   "execution_count": 8,
   "metadata": {},
   "outputs": [],
   "source": [
    "df['年'] = df['日期'].str[:4]\n",
    "df['月'] = df['日期'].str[5:7]\n",
    "df['日'] = df['日期'].str[8:10]"
   ]
  },
  {
   "cell_type": "code",
   "execution_count": 9,
   "metadata": {},
   "outputs": [
    {
     "data": {
      "text/html": [
       "<div>\n",
       "<style scoped>\n",
       "    .dataframe tbody tr th:only-of-type {\n",
       "        vertical-align: middle;\n",
       "    }\n",
       "\n",
       "    .dataframe tbody tr th {\n",
       "        vertical-align: top;\n",
       "    }\n",
       "\n",
       "    .dataframe thead th {\n",
       "        text-align: right;\n",
       "    }\n",
       "</style>\n",
       "<table border=\"1\" class=\"dataframe\">\n",
       "  <thead>\n",
       "    <tr style=\"text-align: right;\">\n",
       "      <th></th>\n",
       "      <th>日期</th>\n",
       "      <th>天气状况(白天/夜间)</th>\n",
       "      <th>最高气温/最低气温</th>\n",
       "      <th>风力风向(白天/夜间)</th>\n",
       "      <th>城市</th>\n",
       "      <th>年</th>\n",
       "      <th>月</th>\n",
       "      <th>日</th>\n",
       "    </tr>\n",
       "  </thead>\n",
       "  <tbody>\n",
       "    <tr>\n",
       "      <th>0</th>\n",
       "      <td>2019年01月01日</td>\n",
       "      <td>晴/晴</td>\n",
       "      <td>-1℃/-16℃</td>\n",
       "      <td>南风1-2级/南风1-2级</td>\n",
       "      <td>jinzhong</td>\n",
       "      <td>2019</td>\n",
       "      <td>01</td>\n",
       "      <td>01</td>\n",
       "    </tr>\n",
       "    <tr>\n",
       "      <th>1</th>\n",
       "      <td>2019年01月02日</td>\n",
       "      <td>晴/晴</td>\n",
       "      <td>1℃/-13℃</td>\n",
       "      <td>东南风1-2级/东南风1-2级</td>\n",
       "      <td>jinzhong</td>\n",
       "      <td>2019</td>\n",
       "      <td>01</td>\n",
       "      <td>02</td>\n",
       "    </tr>\n",
       "    <tr>\n",
       "      <th>2</th>\n",
       "      <td>2019年01月03日</td>\n",
       "      <td>阴/阴</td>\n",
       "      <td>1℃/-11℃</td>\n",
       "      <td>西北风1-2级/西北风1-2级</td>\n",
       "      <td>jinzhong</td>\n",
       "      <td>2019</td>\n",
       "      <td>01</td>\n",
       "      <td>03</td>\n",
       "    </tr>\n",
       "    <tr>\n",
       "      <th>3</th>\n",
       "      <td>2019年01月04日</td>\n",
       "      <td>阴/阴</td>\n",
       "      <td>-2℃/-11℃</td>\n",
       "      <td>东北风1-2级/东北风1-2级</td>\n",
       "      <td>jinzhong</td>\n",
       "      <td>2019</td>\n",
       "      <td>01</td>\n",
       "      <td>04</td>\n",
       "    </tr>\n",
       "    <tr>\n",
       "      <th>4</th>\n",
       "      <td>2019年01月05日</td>\n",
       "      <td>阴/多云</td>\n",
       "      <td>0℃/-9℃</td>\n",
       "      <td>东南风1-2级/东南风1-2级</td>\n",
       "      <td>jinzhong</td>\n",
       "      <td>2019</td>\n",
       "      <td>01</td>\n",
       "      <td>05</td>\n",
       "    </tr>\n",
       "  </tbody>\n",
       "</table>\n",
       "</div>"
      ],
      "text/plain": [
       "            日期 天气状况(白天/夜间) 最高气温/最低气温      风力风向(白天/夜间)        城市     年   月   日\n",
       "0  2019年01月01日         晴/晴  -1℃/-16℃    南风1-2级/南风1-2级  jinzhong  2019  01  01\n",
       "1  2019年01月02日         晴/晴   1℃/-13℃  东南风1-2级/东南风1-2级  jinzhong  2019  01  02\n",
       "2  2019年01月03日         阴/阴   1℃/-11℃  西北风1-2级/西北风1-2级  jinzhong  2019  01  03\n",
       "3  2019年01月04日         阴/阴  -2℃/-11℃  东北风1-2级/东北风1-2级  jinzhong  2019  01  04\n",
       "4  2019年01月05日        阴/多云    0℃/-9℃  东南风1-2级/东南风1-2级  jinzhong  2019  01  05"
      ]
     },
     "execution_count": 9,
     "metadata": {},
     "output_type": "execute_result"
    }
   ],
   "source": [
    "df.head(5)"
   ]
  },
  {
   "cell_type": "code",
   "execution_count": 10,
   "metadata": {},
   "outputs": [
    {
     "data": {
      "text/plain": [
       "月\n",
       "07    157\n",
       "12    156\n",
       "01    155\n",
       "03    155\n",
       "05    155\n",
       "08    155\n",
       "10    155\n",
       "06    152\n",
       "04    150\n",
       "09    150\n",
       "11    150\n",
       "02    141\n",
       "Name: count, dtype: int64"
      ]
     },
     "execution_count": 10,
     "metadata": {},
     "output_type": "execute_result"
    }
   ],
   "source": [
    "df['月'].value_counts()"
   ]
  },
  {
   "cell_type": "code",
   "execution_count": 11,
   "metadata": {},
   "outputs": [],
   "source": [
    "# 定义一个函数来计算平均气温\n",
    "def calculate_avg_temp(temp_str):\n",
    "    # 分割字符串得到最低气温和最高气温\n",
    "    low_temp, high_temp = temp_str.replace('℃', '').split('/')\n",
    "    # 将字符串转换为浮点数\n",
    "    low_temp = float(low_temp)\n",
    "    high_temp = float(high_temp)\n",
    "    # 计算平均值\n",
    "    return (low_temp + high_temp) / 2\n",
    "\n",
    "# 应用函数到气温列\n",
    "df['平均气温'] = df['最高气温/最低气温'].apply(calculate_avg_temp)\n",
    "\n",
    "# 按月份分组计算每月平均气温\n",
    "monthly_avg_temp = df.groupby('月')['平均气温'].mean().reset_index(name='每月平均气温')"
   ]
  },
  {
   "cell_type": "code",
   "execution_count": 12,
   "metadata": {},
   "outputs": [
    {
     "data": {
      "text/html": [
       "<div>\n",
       "<style scoped>\n",
       "    .dataframe tbody tr th:only-of-type {\n",
       "        vertical-align: middle;\n",
       "    }\n",
       "\n",
       "    .dataframe tbody tr th {\n",
       "        vertical-align: top;\n",
       "    }\n",
       "\n",
       "    .dataframe thead th {\n",
       "        text-align: right;\n",
       "    }\n",
       "</style>\n",
       "<table border=\"1\" class=\"dataframe\">\n",
       "  <thead>\n",
       "    <tr style=\"text-align: right;\">\n",
       "      <th></th>\n",
       "      <th>月</th>\n",
       "      <th>每月平均气温</th>\n",
       "    </tr>\n",
       "  </thead>\n",
       "  <tbody>\n",
       "    <tr>\n",
       "      <th>0</th>\n",
       "      <td>01</td>\n",
       "      <td>-3.083871</td>\n",
       "    </tr>\n",
       "    <tr>\n",
       "      <th>1</th>\n",
       "      <td>02</td>\n",
       "      <td>0.539007</td>\n",
       "    </tr>\n",
       "    <tr>\n",
       "      <th>2</th>\n",
       "      <td>03</td>\n",
       "      <td>7.612903</td>\n",
       "    </tr>\n",
       "    <tr>\n",
       "      <th>3</th>\n",
       "      <td>04</td>\n",
       "      <td>12.276667</td>\n",
       "    </tr>\n",
       "    <tr>\n",
       "      <th>4</th>\n",
       "      <td>05</td>\n",
       "      <td>17.909677</td>\n",
       "    </tr>\n",
       "    <tr>\n",
       "      <th>5</th>\n",
       "      <td>06</td>\n",
       "      <td>23.398026</td>\n",
       "    </tr>\n",
       "    <tr>\n",
       "      <th>6</th>\n",
       "      <td>07</td>\n",
       "      <td>24.582803</td>\n",
       "    </tr>\n",
       "    <tr>\n",
       "      <th>7</th>\n",
       "      <td>08</td>\n",
       "      <td>23.219355</td>\n",
       "    </tr>\n",
       "    <tr>\n",
       "      <th>8</th>\n",
       "      <td>09</td>\n",
       "      <td>18.723333</td>\n",
       "    </tr>\n",
       "    <tr>\n",
       "      <th>9</th>\n",
       "      <td>10</td>\n",
       "      <td>11.374194</td>\n",
       "    </tr>\n",
       "    <tr>\n",
       "      <th>10</th>\n",
       "      <td>11</td>\n",
       "      <td>4.400000</td>\n",
       "    </tr>\n",
       "    <tr>\n",
       "      <th>11</th>\n",
       "      <td>12</td>\n",
       "      <td>-2.631410</td>\n",
       "    </tr>\n",
       "  </tbody>\n",
       "</table>\n",
       "</div>"
      ],
      "text/plain": [
       "     月     每月平均气温\n",
       "0   01  -3.083871\n",
       "1   02   0.539007\n",
       "2   03   7.612903\n",
       "3   04  12.276667\n",
       "4   05  17.909677\n",
       "5   06  23.398026\n",
       "6   07  24.582803\n",
       "7   08  23.219355\n",
       "8   09  18.723333\n",
       "9   10  11.374194\n",
       "10  11   4.400000\n",
       "11  12  -2.631410"
      ]
     },
     "execution_count": 12,
     "metadata": {},
     "output_type": "execute_result"
    }
   ],
   "source": [
    "monthly_avg_temp"
   ]
  },
  {
   "cell_type": "code",
   "execution_count": 13,
   "metadata": {},
   "outputs": [],
   "source": [
    "monthly_avg_temp.to_csv(f\"{city}/temp.csv\")"
   ]
  },
  {
   "cell_type": "code",
   "execution_count": 14,
   "metadata": {},
   "outputs": [],
   "source": [
    "monthly_avg_weather = df.groupby('月')[\"天气状况(白天/夜间)\"].value_counts().reset_index(name = \"每月气候状况统计\")"
   ]
  },
  {
   "cell_type": "code",
   "execution_count": 15,
   "metadata": {},
   "outputs": [
    {
     "data": {
      "text/html": [
       "<div>\n",
       "<style scoped>\n",
       "    .dataframe tbody tr th:only-of-type {\n",
       "        vertical-align: middle;\n",
       "    }\n",
       "\n",
       "    .dataframe tbody tr th {\n",
       "        vertical-align: top;\n",
       "    }\n",
       "\n",
       "    .dataframe thead th {\n",
       "        text-align: right;\n",
       "    }\n",
       "</style>\n",
       "<table border=\"1\" class=\"dataframe\">\n",
       "  <thead>\n",
       "    <tr style=\"text-align: right;\">\n",
       "      <th></th>\n",
       "      <th>月</th>\n",
       "      <th>天气状况(白天/夜间)</th>\n",
       "      <th>每月气候状况统计</th>\n",
       "    </tr>\n",
       "  </thead>\n",
       "  <tbody>\n",
       "    <tr>\n",
       "      <th>0</th>\n",
       "      <td>01</td>\n",
       "      <td>晴/晴</td>\n",
       "      <td>81</td>\n",
       "    </tr>\n",
       "    <tr>\n",
       "      <th>1</th>\n",
       "      <td>01</td>\n",
       "      <td>多云/晴</td>\n",
       "      <td>13</td>\n",
       "    </tr>\n",
       "    <tr>\n",
       "      <th>2</th>\n",
       "      <td>01</td>\n",
       "      <td>晴/多云</td>\n",
       "      <td>12</td>\n",
       "    </tr>\n",
       "    <tr>\n",
       "      <th>3</th>\n",
       "      <td>01</td>\n",
       "      <td>多云/多云</td>\n",
       "      <td>10</td>\n",
       "    </tr>\n",
       "    <tr>\n",
       "      <th>4</th>\n",
       "      <td>01</td>\n",
       "      <td>阴/阴</td>\n",
       "      <td>10</td>\n",
       "    </tr>\n",
       "    <tr>\n",
       "      <th>5</th>\n",
       "      <td>01</td>\n",
       "      <td>阴/晴</td>\n",
       "      <td>7</td>\n",
       "    </tr>\n",
       "    <tr>\n",
       "      <th>6</th>\n",
       "      <td>01</td>\n",
       "      <td>阴/多云</td>\n",
       "      <td>5</td>\n",
       "    </tr>\n",
       "    <tr>\n",
       "      <th>7</th>\n",
       "      <td>01</td>\n",
       "      <td>晴/阴</td>\n",
       "      <td>3</td>\n",
       "    </tr>\n",
       "    <tr>\n",
       "      <th>8</th>\n",
       "      <td>01</td>\n",
       "      <td>多云/小雪</td>\n",
       "      <td>2</td>\n",
       "    </tr>\n",
       "    <tr>\n",
       "      <th>9</th>\n",
       "      <td>01</td>\n",
       "      <td>多云/阴</td>\n",
       "      <td>2</td>\n",
       "    </tr>\n",
       "  </tbody>\n",
       "</table>\n",
       "</div>"
      ],
      "text/plain": [
       "    月 天气状况(白天/夜间)  每月气候状况统计\n",
       "0  01         晴/晴        81\n",
       "1  01        多云/晴        13\n",
       "2  01        晴/多云        12\n",
       "3  01       多云/多云        10\n",
       "4  01         阴/阴        10\n",
       "5  01         阴/晴         7\n",
       "6  01        阴/多云         5\n",
       "7  01         晴/阴         3\n",
       "8  01       多云/小雪         2\n",
       "9  01        多云/阴         2"
      ]
     },
     "execution_count": 15,
     "metadata": {},
     "output_type": "execute_result"
    }
   ],
   "source": [
    "monthly_avg_weather.head(10)"
   ]
  },
  {
   "cell_type": "code",
   "execution_count": 16,
   "metadata": {},
   "outputs": [],
   "source": [
    "monthly_avg_weather = monthly_avg_weather[monthly_avg_weather[\"每月气候状况统计\"]>10]"
   ]
  },
  {
   "cell_type": "code",
   "execution_count": 17,
   "metadata": {},
   "outputs": [],
   "source": [
    "pivot_df = monthly_avg_weather.pivot_table(index='月', columns='天气状况(白天/夜间)', values='每月气候状况统计', aggfunc='sum')"
   ]
  },
  {
   "cell_type": "code",
   "execution_count": 18,
   "metadata": {},
   "outputs": [],
   "source": [
    "pivot_df = pivot_df.fillna(\"0\")"
   ]
  },
  {
   "cell_type": "code",
   "execution_count": 19,
   "metadata": {},
   "outputs": [],
   "source": [
    "pivot_df.to_csv(f\"{city}/weather.csv\")"
   ]
  }
 ],
 "metadata": {
  "kernelspec": {
   "display_name": "base",
   "language": "python",
   "name": "python3"
  },
  "language_info": {
   "codemirror_mode": {
    "name": "ipython",
    "version": 3
   },
   "file_extension": ".py",
   "mimetype": "text/x-python",
   "name": "python",
   "nbconvert_exporter": "python",
   "pygments_lexer": "ipython3",
   "version": "3.12.7"
  }
 },
 "nbformat": 4,
 "nbformat_minor": 2
}
