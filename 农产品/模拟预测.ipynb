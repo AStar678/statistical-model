{
 "cells": [
  {
   "cell_type": "code",
   "execution_count": 2,
   "metadata": {},
   "outputs": [
    {
     "name": "stderr",
     "output_type": "stream",
     "text": [
      "Training Random Forest: 100%|██████████| 100/100 [02:38<00:00,  1.59s/it]\n"
     ]
    },
    {
     "name": "stdout",
     "output_type": "stream",
     "text": [
      "均方误差 (MSE): 0.3829784272952188\n"
     ]
    }
   ],
   "source": [
    "from tqdm import tqdm\n",
    "from sklearn.model_selection import train_test_split\n",
    "from sklearn.ensemble import RandomForestRegressor\n",
    "from sklearn.metrics import mean_squared_error\n",
    "import pandas as pd\n",
    "\n",
    "# 读取数据\n",
    "df = pd.read_csv(\"../处理后的农产品数据.csv\")\n",
    "\n",
    "# 分离特征和目标变量\n",
    "X = df.drop('hectare', axis=1)\n",
    "y = df['hectare']\n",
    "\n",
    "# 划分训练集和测试集\n",
    "X_train, X_test, y_train, y_test = train_test_split(X, y, test_size=0.2, random_state=42)\n",
    "\n",
    "# 创建随机森林回归模型\n",
    "model = RandomForestRegressor(n_estimators=100, random_state=42, warm_start=True)\n",
    "\n",
    "# 初始化进度条\n",
    "pbar = tqdm(total=100, desc=\"Training Random Forest\")\n",
    "\n",
    "train_mse = []\n",
    "test_mse = []\n",
    "\n",
    "for i in range(1, 101):\n",
    "    model.n_estimators = i\n",
    "    model.fit(X_train, y_train)\n",
    "\n",
    "    # 更新进度条\n",
    "    pbar.update(1)\n",
    "\n",
    "# 关闭进度条\n",
    "pbar.close()\n",
    "\n",
    "# 进行预测\n",
    "y_pred = model.predict(X_test)\n",
    "\n",
    "# 评估模型\n",
    "mse = mean_squared_error(y_test, y_pred)\n",
    "print(f\"均方误差 (MSE): {mse}\")"
   ]
  },
  {
   "cell_type": "code",
   "execution_count": 3,
   "metadata": {},
   "outputs": [
    {
     "name": "stderr",
     "output_type": "stream",
     "text": [
      "Training Linear Regression: 100%|██████████| 1/1 [00:00<00:00,  4.71it/s]"
     ]
    },
    {
     "name": "stdout",
     "output_type": "stream",
     "text": [
      "均方误差 (MSE): 0.3316496551371487\n"
     ]
    },
    {
     "name": "stderr",
     "output_type": "stream",
     "text": [
      "\n"
     ]
    }
   ],
   "source": [
    "from tqdm import tqdm\n",
    "from sklearn.model_selection import train_test_split\n",
    "from sklearn.linear_model import LinearRegression\n",
    "from sklearn.metrics import mean_squared_error\n",
    "import pandas as pd\n",
    "\n",
    "# 读取数据\n",
    "df = pd.read_csv(\"../处理后的农产品数据.csv\")\n",
    "\n",
    "# 分离特征和目标变量\n",
    "X = df.drop('hectare', axis=1)\n",
    "y = df['hectare']\n",
    "\n",
    "# 划分训练集和测试集\n",
    "X_train, X_test, y_train, y_test = train_test_split(X, y, test_size=0.2, random_state=42)\n",
    "\n",
    "# 创建线性回归模型\n",
    "model = LinearRegression()\n",
    "\n",
    "# 初始化进度条\n",
    "pbar = tqdm(total=1, desc=\"Training Linear Regression\")\n",
    "\n",
    "# 训练模型\n",
    "model.fit(X_train, y_train)\n",
    "\n",
    "# 更新进度条\n",
    "pbar.update(1)\n",
    "\n",
    "# 关闭进度条\n",
    "pbar.close()\n",
    "\n",
    "# 进行预测\n",
    "y_pred = model.predict(X_test)\n",
    "\n",
    "# 评估模型\n",
    "mse = mean_squared_error(y_test, y_pred)\n",
    "print(f\"均方误差 (MSE): {mse}\")\n",
    "    "
   ]
  },
  {
   "cell_type": "code",
   "execution_count": 2,
   "metadata": {},
   "outputs": [
    {
     "name": "stderr",
     "output_type": "stream",
     "text": [
      "Training Residual Neural Network: 100%|██████████| 100/100 [02:17<00:00,  1.37s/it]"
     ]
    },
    {
     "name": "stdout",
     "output_type": "stream",
     "text": [
      "均方误差 (MSE): 1.255110502243042\n"
     ]
    },
    {
     "name": "stderr",
     "output_type": "stream",
     "text": [
      "\n"
     ]
    }
   ],
   "source": [
    "import torch\n",
    "import torch.nn as nn\n",
    "import torch.optim as optim\n",
    "from tqdm import tqdm\n",
    "from sklearn.model_selection import train_test_split\n",
    "from sklearn.metrics import mean_squared_error\n",
    "import pandas as pd\n",
    "\n",
    "# 读取数据\n",
    "df = pd.read_csv(\"../处理后的农产品数据.csv\")\n",
    "\n",
    "# 分离特征和目标变量\n",
    "X = df.drop('hectare', axis=1).values\n",
    "y = df['hectare'].values\n",
    "\n",
    "# 划分训练集和测试集\n",
    "X_train, X_test, y_train, y_test = train_test_split(X, y, test_size=0.2, random_state=42)\n",
    "\n",
    "# 转换为 PyTorch 张量\n",
    "X_train = torch.FloatTensor(X_train)\n",
    "y_train = torch.FloatTensor(y_train).view(-1, 1)\n",
    "X_test = torch.FloatTensor(X_test)\n",
    "y_test = torch.FloatTensor(y_test).view(-1, 1)\n",
    "\n",
    "# 定义残差块\n",
    "class ResidualBlock(nn.Module):\n",
    "    def __init__(self, in_features, out_features):\n",
    "        super(ResidualBlock, self).__init__()\n",
    "        self.fc1 = nn.Linear(in_features, out_features)\n",
    "        self.relu = nn.ReLU()\n",
    "        self.fc2 = nn.Linear(out_features, out_features)\n",
    "\n",
    "        if in_features != out_features:\n",
    "            self.shortcut = nn.Linear(in_features, out_features)\n",
    "        else:\n",
    "            self.shortcut = nn.Identity()\n",
    "\n",
    "    def forward(self, x):\n",
    "        identity = self.shortcut(x)\n",
    "        out = self.fc1(x)\n",
    "        out = self.relu(out)\n",
    "        out = self.fc2(out)\n",
    "        out += identity\n",
    "        out = self.relu(out)\n",
    "        return out\n",
    "\n",
    "# 定义深度残差神经网络模型\n",
    "class ResidualNeuralNetwork(nn.Module):\n",
    "    def __init__(self, input_size):\n",
    "        super(ResidualNeuralNetwork, self).__init__()\n",
    "        self.fc_input = nn.Linear(input_size, 64)\n",
    "        self.relu = nn.ReLU()\n",
    "        self.res_block1 = ResidualBlock(64, 64)\n",
    "        self.res_block2 = ResidualBlock(64, 64)\n",
    "        self.res_block3 = ResidualBlock(64, 64)\n",
    "        self.fc_output = nn.Linear(64, 1)\n",
    "\n",
    "    def forward(self, x):\n",
    "        out = self.fc_input(x)\n",
    "        out = self.relu(out)\n",
    "        out = self.res_block1(out)\n",
    "        out = self.res_block2(out)\n",
    "        out = self.res_block3(out)\n",
    "        out = self.fc_output(out)\n",
    "        return out\n",
    "\n",
    "# 初始化模型\n",
    "input_size = X_train.shape[1]\n",
    "model = ResidualNeuralNetwork(input_size)\n",
    "\n",
    "# 定义损失函数和优化器\n",
    "criterion = nn.MSELoss()\n",
    "optimizer = optim.Adam(model.parameters(), lr=0.001)\n",
    "\n",
    "# 训练模型\n",
    "num_epochs = 100\n",
    "pbar = tqdm(total=num_epochs, desc=\"Training Residual Neural Network\")\n",
    "for epoch in range(num_epochs):\n",
    "    # 前向传播\n",
    "    outputs = model(X_train)\n",
    "    loss = criterion(outputs, y_train)\n",
    "\n",
    "    # 反向传播和优化\n",
    "    optimizer.zero_grad()\n",
    "    loss.backward()\n",
    "    optimizer.step()\n",
    "\n",
    "    pbar.update(1)\n",
    "\n",
    "pbar.close()\n",
    "\n",
    "# 进行预测\n",
    "with torch.no_grad():\n",
    "    y_pred = model(X_test)\n",
    "\n",
    "# 转换为 numpy 数组\n",
    "y_pred = y_pred.numpy()\n",
    "y_test = y_test.numpy()\n",
    "\n",
    "# 评估模型\n",
    "mse = mean_squared_error(y_test, y_pred)\n",
    "print(f\"均方误差 (MSE): {mse}\")\n",
    "    "
   ]
  },
  {
   "cell_type": "code",
   "execution_count": 1,
   "metadata": {},
   "outputs": [
    {
     "name": "stderr",
     "output_type": "stream",
     "text": [
      "Training Linear SVR:   0%|          | 0/1 [00:00<?, ?it/s]/opt/anaconda3/lib/python3.12/site-packages/sklearn/svm/_base.py:1235: ConvergenceWarning: Liblinear failed to converge, increase the number of iterations.\n",
      "  warnings.warn(\n",
      "Training Linear SVR: 100%|██████████| 1/1 [00:00<00:00,  4.43it/s]"
     ]
    },
    {
     "name": "stdout",
     "output_type": "stream",
     "text": [
      "均方误差 (MSE): 0.9680111992385966\n"
     ]
    },
    {
     "name": "stderr",
     "output_type": "stream",
     "text": [
      "\n"
     ]
    }
   ],
   "source": [
    "import pandas as pd\n",
    "from sklearn.model_selection import train_test_split\n",
    "from sklearn.svm import LinearSVR\n",
    "from sklearn.metrics import mean_squared_error\n",
    "from tqdm import tqdm\n",
    "import numpy as np\n",
    "\n",
    "# 读取数据\n",
    "df = pd.read_csv(\"../处理后的农产品数据.csv\")\n",
    "\n",
    "# 随机选取 1000 组数据\n",
    "df_sample = df.sample(n=1000, random_state=42)\n",
    "\n",
    "# 分离特征和目标变量\n",
    "X = df_sample.drop('hectare', axis=1)\n",
    "y = df_sample['hectare']\n",
    "\n",
    "# 划分训练集和测试集\n",
    "X_train, X_test, y_train, y_test = train_test_split(X, y, test_size=0.2, random_state=42)\n",
    "\n",
    "# 创建线性支持向量回归模型\n",
    "# C 是正则化参数，值越大，模型对训练数据的拟合程度越高，但可能会过拟合\n",
    "# 这里设置 C=1.0 是一个常见的初始值，你可以根据实际情况调整\n",
    "model = LinearSVR(C=1.0, random_state=42, max_iter=10000)\n",
    "\n",
    "# 初始化进度条\n",
    "pbar = tqdm(total=1, desc=\"Training Linear SVR\")\n",
    "\n",
    "# 训练模型\n",
    "model.fit(X_train, y_train)\n",
    "\n",
    "# 更新进度条\n",
    "pbar.update(1)\n",
    "\n",
    "# 关闭进度条\n",
    "pbar.close()\n",
    "\n",
    "# 进行预测\n",
    "y_pred = model.predict(X_test)\n",
    "\n",
    "# 评估模型\n",
    "mse = mean_squared_error(y_test, y_pred)\n",
    "print(f\"均方误差 (MSE): {mse}\")\n",
    "    "
   ]
  },
  {
   "cell_type": "code",
   "execution_count": 2,
   "metadata": {},
   "outputs": [
    {
     "name": "stderr",
     "output_type": "stream",
     "text": [
      "Training Linear SVR:   0%|          | 0/1 [00:00<?, ?it/s]/opt/anaconda3/lib/python3.12/site-packages/sklearn/svm/_base.py:1235: ConvergenceWarning: Liblinear failed to converge, increase the number of iterations.\n",
      "  warnings.warn(\n",
      "Training Linear SVR: 100%|██████████| 1/1 [00:01<00:00,  1.10s/it]"
     ]
    },
    {
     "name": "stdout",
     "output_type": "stream",
     "text": [
      "均方误差 (MSE): 1.054209301262197\n"
     ]
    },
    {
     "name": "stderr",
     "output_type": "stream",
     "text": [
      "\n"
     ]
    }
   ],
   "source": [
    "import pandas as pd\n",
    "from sklearn.model_selection import train_test_split\n",
    "from sklearn.svm import LinearSVR\n",
    "from sklearn.metrics import mean_squared_error\n",
    "from tqdm import tqdm\n",
    "import numpy as np\n",
    "\n",
    "# 读取数据\n",
    "df = pd.read_csv(\"../处理后的农产品数据.csv\")\n",
    "\n",
    "# 随机选取 5000 组数据\n",
    "df_sample = df.sample(n=5000, random_state=42)\n",
    "\n",
    "# 分离特征和目标变量\n",
    "X = df_sample.drop('hectare', axis=1)\n",
    "y = df_sample['hectare']\n",
    "\n",
    "# 划分训练集和测试集\n",
    "X_train, X_test, y_train, y_test = train_test_split(X, y, test_size=0.2, random_state=42)\n",
    "\n",
    "# 创建线性支持向量回归模型\n",
    "# C 是正则化参数，值越大，模型对训练数据的拟合程度越高，但可能会过拟合\n",
    "# 这里设置 C=1.0 是一个常见的初始值，你可以根据实际情况调整\n",
    "model = LinearSVR(C=1.0, random_state=42, max_iter=10000)\n",
    "\n",
    "# 初始化进度条\n",
    "pbar = tqdm(total=1, desc=\"Training Linear SVR\")\n",
    "\n",
    "# 训练模型\n",
    "model.fit(X_train, y_train)\n",
    "\n",
    "# 更新进度条\n",
    "pbar.update(1)\n",
    "\n",
    "# 关闭进度条\n",
    "pbar.close()\n",
    "\n",
    "# 进行预测\n",
    "y_pred = model.predict(X_test)\n",
    "\n",
    "# 评估模型\n",
    "mse = mean_squared_error(y_test, y_pred)\n",
    "print(f\"均方误差 (MSE): {mse}\")\n",
    "    "
   ]
  },
  {
   "cell_type": "code",
   "execution_count": null,
   "metadata": {},
   "outputs": [],
   "source": []
  }
 ],
 "metadata": {
  "kernelspec": {
   "display_name": "base",
   "language": "python",
   "name": "python3"
  },
  "language_info": {
   "codemirror_mode": {
    "name": "ipython",
    "version": 3
   },
   "file_extension": ".py",
   "mimetype": "text/x-python",
   "name": "python",
   "nbconvert_exporter": "python",
   "pygments_lexer": "ipython3",
   "version": "3.12.7"
  }
 },
 "nbformat": 4,
 "nbformat_minor": 2
}
